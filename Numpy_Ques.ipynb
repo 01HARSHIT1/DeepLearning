{
  "cells": [
    {
      "cell_type": "markdown",
      "metadata": {
        "id": "5YNIISPploTY"
      },
      "source": [
        "_____\n",
        "**Write a program to create an array [10, 5, 7, 20, 15, -9, 33], print it, Find the maximum and minimum Value of the array**"
      ]
    },
    {
      "cell_type": "code",
      "execution_count": 39,
      "metadata": {},
      "outputs": [
        {
          "name": "stdout",
          "output_type": "stream",
          "text": [
            "Array: [10  5  7 20 15 -9 33]\n",
            "Maximum value: 33\n",
            "Minimum value: -9\n"
          ]
        }
      ],
      "source": [
        "import numpy as np\n",
        "\n",
        "arr = np.array([10, 5, 7, 20, 15, -9, 33])\n",
        "print(\"Array:\", arr)\n",
        "print(\"Maximum value:\", np.max(arr))\n",
        "print(\"Minimum value:\", np.min(arr))"
      ]
    },
    {
      "cell_type": "markdown",
      "metadata": {
        "id": "CjKQrl4ZloTY"
      },
      "source": [
        "______\n",
        "**Write a program to accept an array of elements and find the maximum without using max function**"
      ]
    },
    {
      "cell_type": "code",
      "execution_count": 40,
      "metadata": {},
      "outputs": [
        {
          "name": "stdout",
          "output_type": "stream",
          "text": [
            "Maximum value (without using max): 33\n"
          ]
        }
      ],
      "source": [
        "# Find the maximum value in arr without using max function\n",
        "maximum = arr[0]\n",
        "for num in arr:\n",
        "    if num > maximum:\n",
        "        maximum = num\n",
        "print(\"Maximum value (without using max):\", maximum)"
      ]
    },
    {
      "cell_type": "markdown",
      "metadata": {
        "id": "V1Tbn_avloTY"
      },
      "source": [
        "___\n",
        "**Write a program to accept two matrices [[1,2],[3,4]],   [[2,4],[6,8]]and find the sum and subtraction of two matrices**"
      ]
    },
    {
      "cell_type": "code",
      "execution_count": 41,
      "metadata": {},
      "outputs": [
        {
          "name": "stdout",
          "output_type": "stream",
          "text": [
            "Sum of matrices:\n",
            " [[ 3  6]\n",
            " [ 9 12]]\n",
            "Subtraction of matrices:\n",
            " [[-1 -2]\n",
            " [-3 -4]]\n"
          ]
        }
      ],
      "source": [
        "import numpy as np\n",
        "\n",
        "matrix1 = np.array([[1, 2], [3, 4]])\n",
        "matrix2 = np.array([[2, 4], [6, 8]])\n",
        "\n",
        "sum_matrix = matrix1 + matrix2\n",
        "diff_matrix = matrix1 - matrix2\n",
        "\n",
        "print(\"Sum of matrices:\\n\", sum_matrix)\n",
        "print(\"Subtraction of matrices:\\n\", diff_matrix)"
      ]
    },
    {
      "cell_type": "markdown",
      "metadata": {
        "id": "e8iqIwlxloTZ"
      },
      "source": [
        "___\n",
        "**Write a program to generate a ranodom matrix of size 5 X 6. Add another row containing random elements to it. Find the sum of each row.**"
      ]
    },
    {
      "cell_type": "code",
      "execution_count": 42,
      "metadata": {},
      "outputs": [
        {
          "name": "stdout",
          "output_type": "stream",
          "text": [
            "Extended Matrix:\n",
            " [[0.63055565 0.23179048 0.67545406 0.07855307 0.72789652 0.42765203]\n",
            " [0.86814356 0.54112143 0.25053449 0.83892312 0.21915204 0.53855323]\n",
            " [0.83655142 0.54791065 0.77076845 0.98440312 0.51345088 0.13376606]\n",
            " [0.8634713  0.77125431 0.41250454 0.88632974 0.60130397 0.94352305]\n",
            " [0.888954   0.88233146 0.80547256 0.41224332 0.14555411 0.76903054]\n",
            " [0.70466825 0.56516249 0.75687911 0.05209582 0.04843557 0.85408408]]\n",
            "Sum of each row: [2.7719018  3.25642787 3.78685057 4.47838689 3.90358599 2.98132533]\n"
          ]
        }
      ],
      "source": [
        "# Generate a random matrix of size 5x6\n",
        "random_matrix = np.random.rand(5, 6)\n",
        "\n",
        "# Generate a new random row of size 6\n",
        "new_row = np.random.rand(1, 6)\n",
        "\n",
        "# Add the new row to the matrix\n",
        "extended_matrix = np.vstack([random_matrix, new_row])\n",
        "\n",
        "# Find the sum of each row\n",
        "row_sums = np.sum(extended_matrix, axis=1)\n",
        "\n",
        "print(\"Extended Matrix:\\n\", extended_matrix)\n",
        "print(\"Sum of each row:\", row_sums)"
      ]
    },
    {
      "cell_type": "markdown",
      "metadata": {
        "id": "CIhpDElPloTZ"
      },
      "source": [
        "___\n",
        "**Write a program to generate a ranodm integer matrix of size 5 X 6. Add another column containing random integers to it. Compute the sine of each element and print it**"
      ]
    },
    {
      "cell_type": "code",
      "execution_count": 43,
      "metadata": {},
      "outputs": [
        {
          "name": "stdout",
          "output_type": "stream",
          "text": [
            "Extended Integer Matrix:\n",
            " [[ 8 48 52 36 66 50 69]\n",
            " [91 53 95 14 72 50 88]\n",
            " [48 77 39 32 22 62 42]\n",
            " [15 52 36 86 32 85 74]\n",
            " [33  8 79 90 87 79 21]]\n",
            "Sine of each element:\n",
            " [[ 0.98935825 -0.76825466  0.98662759 -0.99177885 -0.02655115 -0.26237485\n",
            "  -0.11478481]\n",
            " [ 0.10598751  0.39592515  0.68326171  0.99060736  0.25382336 -0.26237485\n",
            "   0.0353983 ]\n",
            " [-0.76825466  0.99952016  0.96379539  0.55142668 -0.00885131 -0.7391807\n",
            "  -0.91652155]\n",
            " [ 0.65028784  0.98662759 -0.99177885 -0.92345845  0.55142668 -0.17607562\n",
            "  -0.98514626]\n",
            " [ 0.99991186  0.98935825 -0.44411267  0.89399666 -0.82181784 -0.44411267\n",
            "   0.83665564]]\n"
          ]
        }
      ],
      "source": [
        "# Generate a random integer matrix of size 5x6\n",
        "int_matrix = np.random.randint(low=0, high=100, size=(5, 6))\n",
        "\n",
        "# Generate a new random integer column of size 5x1\n",
        "new_col = np.random.randint(low=0, high=100, size=(5, 1))\n",
        "\n",
        "# Add the new column to the matrix\n",
        "extended_int_matrix = np.hstack([int_matrix, new_col])\n",
        "\n",
        "# Compute the sine of each element\n",
        "sine_matrix = np.sin(extended_int_matrix)\n",
        "\n",
        "print(\"Extended Integer Matrix:\\n\", extended_int_matrix)\n",
        "print(\"Sine of each element:\\n\", sine_matrix)"
      ]
    },
    {
      "cell_type": "markdown",
      "metadata": {
        "id": "-St006l8loTZ"
      },
      "source": [
        "___\n",
        "**Write a program to generate a ranodm matrix of size 5 X 6. Consider the 3rd and 4th row; and 2nd, 3rd and 4th column and print the resultant matrix using slicing**"
      ]
    },
    {
      "cell_type": "code",
      "execution_count": 44,
      "metadata": {},
      "outputs": [
        {
          "name": "stdout",
          "output_type": "stream",
          "text": [
            "Original Matrix:\n",
            " [[0.3324878  0.70611094 0.22592438 0.48355258 0.93174139 0.37460431]\n",
            " [0.34347692 0.84453381 0.92219713 0.54501896 0.22676662 0.93375259]\n",
            " [0.74201568 0.43156406 0.38739002 0.75961573 0.17143793 0.6248592 ]\n",
            " [0.51499695 0.37561536 0.76573015 0.17589942 0.61024385 0.8355761 ]\n",
            " [0.61115836 0.47553538 0.17964849 0.82225646 0.99119804 0.95871123]]\n",
            "Sliced Matrix (3rd & 4th row, 2nd-4th column):\n",
            " [[0.43156406 0.38739002 0.75961573]\n",
            " [0.37561536 0.76573015 0.17589942]]\n"
          ]
        }
      ],
      "source": [
        "# Generate a random matrix of size 5x6\n",
        "matrix = np.random.rand(5, 6)\n",
        "\n",
        "# Select the 3rd and 4th row (index 2 and 3), and 2nd, 3rd, and 4th column (index 1, 2, 3)\n",
        "sliced_matrix = matrix[2:4, 1:4]\n",
        "\n",
        "print(\"Original Matrix:\\n\", matrix)\n",
        "print(\"Sliced Matrix (3rd & 4th row, 2nd-4th column):\\n\", sliced_matrix)"
      ]
    },
    {
      "cell_type": "markdown",
      "metadata": {
        "id": "np6xZQWTloTa"
      },
      "source": [
        "### Great Job!"
      ]
    }
  ],
  "metadata": {
    "colab": {
      "provenance": []
    },
    "kernelspec": {
      "display_name": "Python 3",
      "language": "python",
      "name": "python3"
    },
    "language_info": {
      "codemirror_mode": {
        "name": "ipython",
        "version": 3
      },
      "file_extension": ".py",
      "mimetype": "text/x-python",
      "name": "python",
      "nbconvert_exporter": "python",
      "pygments_lexer": "ipython3",
      "version": "3.12.8"
    }
  },
  "nbformat": 4,
  "nbformat_minor": 0
}
